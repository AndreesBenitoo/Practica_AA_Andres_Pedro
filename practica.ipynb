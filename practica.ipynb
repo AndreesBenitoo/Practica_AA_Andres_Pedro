{
 "cells": [
  {
   "cell_type": "code",
   "execution_count": 87,
   "metadata": {},
   "outputs": [],
   "source": [
    "import pandas as pd\n",
    "import numpy as np\n",
    "from sklearn.impute import SimpleImputer\n",
    "from sklearn.preprocessing import StandardScaler\n",
    "import utils"
   ]
  },
  {
   "cell_type": "code",
   "execution_count": 88,
   "metadata": {},
   "outputs": [],
   "source": [
    "df = pd.read_csv(\"datasets/train_data_0.csv\")\n",
    "#df = pd.read_csv(\"train_data_100_lines.csv\")"
   ]
  },
  {
   "cell_type": "code",
   "execution_count": 89,
   "metadata": {},
   "outputs": [
    {
     "name": "stdout",
     "output_type": "stream",
     "text": [
      "Index(['Infraction_SBF', 'Infraction_NCB', 'Infraction_HPS', 'Infraction_JVWF',\n",
      "       'Infraction_APIU', 'Risk_5797', 'Base_8379', 'Infraction_IRKE',\n",
      "       'Infraction_WEG', 'Infraction_ANHZ', 'Risk_4561', 'Infraction_HPLO',\n",
      "       'Infraction_QGC', 'Infraction_EBA', 'Base_64022', 'Base_3958',\n",
      "       'Infraction_WLMI', 'Infraction_SVKR', 'Infraction_MAN',\n",
      "       'Infraction_WWLN', 'Infraction_ADWZ', 'Infraction_MZI',\n",
      "       'Infraction_ZTLC'],\n",
      "      dtype='object')\n",
      "Infraction_SBF     85.429342\n",
      "Infraction_NCB     89.935560\n",
      "Infraction_HPS     88.570354\n",
      "Infraction_JVWF    99.002796\n",
      "Infraction_APIU    88.757955\n",
      "Risk_5797          94.240377\n",
      "Base_8379          93.104372\n",
      "Infraction_IRKE    99.934000\n",
      "Infraction_WEG     99.879600\n",
      "Infraction_ANHZ    90.009560\n",
      "Risk_4561          89.018156\n",
      "Infraction_HPLO    99.479598\n",
      "Infraction_QGC     99.424198\n",
      "Infraction_EBA     99.424198\n",
      "Base_64022         99.374997\n",
      "Base_3958          98.660795\n",
      "Infraction_WLMI    89.987560\n",
      "Infraction_SVKR    96.413386\n",
      "Infraction_MAN     96.413386\n",
      "Infraction_WWLN    96.413386\n",
      "Infraction_ADWZ    96.413386\n",
      "Infraction_MZI     96.413386\n",
      "Infraction_ZTLC    83.093532\n",
      "dtype: float64\n"
     ]
    }
   ],
   "source": [
    "def nan_percentaje(df, threshold=0):\n",
    "    porcentaje_nulos = df.isnull().mean() * 100\n",
    "    porcentaje_nulos = porcentaje_nulos[porcentaje_nulos > threshold]\n",
    "    return porcentaje_nulos\n",
    "\n",
    "df_nulos = nan_percentaje(df, threshold=80)\n",
    "print(df_nulos.keys())\n",
    "print(df_nulos)"
   ]
  },
  {
   "cell_type": "code",
   "execution_count": 90,
   "metadata": {},
   "outputs": [
    {
     "name": "stdout",
     "output_type": "stream",
     "text": [
      "Series([], dtype: float64)\n"
     ]
    }
   ],
   "source": [
    "df = df.dropna(axis=1, how=\"all\")\n",
    "df = df.drop(columns=df_nulos.index)\n",
    "df_nulos = nan_percentaje(df, threshold=80)\n",
    "print(df_nulos)"
   ]
  },
  {
   "cell_type": "code",
   "execution_count": 91,
   "metadata": {},
   "outputs": [
    {
     "name": "stdout",
     "output_type": "stream",
     "text": [
      "Columna ID unique vals: ['3333337004103300505242400473433643475477705348074613224505537552'\n",
      " '3333412724050477534287115505554450368233003786622422204286025570'\n",
      " '3333755354307801420025735367852078550468735254721045250448405357' ...\n",
      " '8043777337047507312251342075533674532322830453830244755100104052'\n",
      " '8043570530126072873113273245172435436305034474512582037247037726'\n",
      " '8043553275334512144533048583521143144337787036623244045750780733']\n",
      "Columna Expenditure_AHF unique vals: ['2017-03-05' '2017-04-20' '2017-05-11' '2017-06-29' '2017-08-03'\n",
      " '2017-08-23' '2017-09-19' '2017-10-24' '2017-11-28' '2018-01-02'\n",
      " '2018-01-30' '2018-02-10' '2018-03-29' '2017-04-04' '2017-04-25'\n",
      " '2017-06-02' '2017-06-28' '2017-07-20' '2017-08-10' '2017-09-22'\n",
      " '2017-10-27' '2017-11-29' '2018-01-22' '2018-02-07' '2018-04-02'\n",
      " '2017-04-01' '2017-04-24' '2017-06-01' '2017-06-24' '2017-07-24'\n",
      " '2017-08-09' '2017-09-24' '2017-10-31' '2017-12-01' '2018-01-01'\n",
      " '2018-02-01' '2018-03-01' '2018-04-01' '2017-03-23' '2017-05-02'\n",
      " '2017-05-23' '2017-07-16' '2017-09-25' '2017-10-30' '2017-11-12'\n",
      " '2017-12-16' '2018-02-15' '2018-03-23' '2017-03-17' '2017-04-16'\n",
      " '2017-05-17' '2017-06-16' '2017-07-17' '2017-08-17' '2017-09-16'\n",
      " '2017-10-16' '2017-11-16' '2017-12-19' '2018-01-19' '2018-03-03'\n",
      " '2017-03-18' '2017-05-18' '2017-06-17' '2017-07-18' '2017-08-18'\n",
      " '2017-09-17' '2017-10-18' '2017-11-17' '2017-12-17' '2018-01-20'\n",
      " '2018-02-03' '2018-03-17' '2018-01-13' '2018-02-25' '2018-03-15'\n",
      " '2017-03-28' '2017-05-12' '2017-06-20' '2017-08-20' '2017-09-20'\n",
      " '2017-11-20' '2017-12-14' '2018-02-20' '2018-03-11' '2017-03-26'\n",
      " '2017-04-26' '2017-05-20' '2017-08-04' '2017-09-26' '2017-11-01'\n",
      " '2017-11-21' '2018-01-05' '2018-02-02' '2018-03-05' '2017-03-10'\n",
      " '2017-04-06' '2017-05-21' '2017-06-14' '2017-07-12' '2017-08-05'\n",
      " '2017-10-14' '2017-12-31' '2018-03-31' '2017-03-19' '2017-05-19'\n",
      " '2017-07-03' '2017-07-31' '2017-08-13' '2017-10-15' '2017-12-07'\n",
      " '2018-01-06' '2018-02-05' '2018-03-04' '2017-04-11' '2017-05-27'\n",
      " '2017-06-06' '2017-08-02' '2017-08-31' '2017-10-03' '2017-12-03'\n",
      " '2017-12-08' '2018-01-31' '2018-02-18' '2017-03-24' '2017-04-29'\n",
      " '2017-07-25' '2017-08-12' '2017-09-09' '2017-10-23' '2017-12-21'\n",
      " '2018-01-28' '2018-02-09' '2018-01-03' '2018-02-06' '2018-03-18'\n",
      " '2017-04-28' '2017-05-29' '2017-07-13' '2017-08-29' '2017-09-28'\n",
      " '2017-10-13' '2017-12-10' '2018-01-25' '2017-03-22' '2017-06-18'\n",
      " '2017-08-01' '2017-09-07' '2017-11-10' '2018-03-02' '2018-03-13'\n",
      " '2017-05-14' '2017-06-13' '2017-08-14' '2017-10-17' '2017-11-13'\n",
      " '2018-01-14' '2018-02-11' '2018-03-14' '2017-07-29' '2017-09-05'\n",
      " '2017-10-28' '2017-11-06' '2017-12-28' '2018-01-18' '2018-02-12'\n",
      " '2018-03-10' '2017-06-15' '2017-08-15' '2017-09-08' '2017-10-04'\n",
      " '2017-11-22' '2017-12-06' '2018-01-15' '2017-04-10' '2017-08-08'\n",
      " '2017-09-27' '2017-10-26' '2017-11-07' '2017-03-29' '2017-05-03'\n",
      " '2017-07-04' '2017-11-19' '2018-01-10' '2018-03-20' '2017-09-01'\n",
      " '2017-09-21' '2017-10-05' '2018-02-16' '2018-03-19' '2017-06-08'\n",
      " '2017-07-30' '2017-10-10' '2017-11-27' '2018-01-16' '2018-03-06'\n",
      " '2017-09-14' '2017-11-30' '2018-02-28' '2017-05-24' '2017-06-05'\n",
      " '2017-08-30' '2017-11-11' '2018-01-09' '2018-02-14' '2018-03-26'\n",
      " '2017-03-09' '2017-04-09' '2017-05-09' '2017-07-09' '2017-10-09'\n",
      " '2017-11-09' '2017-12-09' '2018-02-08' '2018-03-08' '2017-04-15'\n",
      " '2017-05-28' '2017-06-26' '2017-09-04' '2017-10-21' '2018-03-28'\n",
      " '2017-04-08' '2017-05-10' '2017-06-23' '2017-08-19' '2017-09-06'\n",
      " '2017-11-18' '2017-12-18' '2018-02-21' '2017-03-21' '2017-04-18'\n",
      " '2017-06-27' '2017-09-18' '2017-04-14' '2017-05-26' '2017-06-25'\n",
      " '2017-08-26' '2017-09-11' '2017-12-04' '2018-01-26' '2018-02-23'\n",
      " '2017-04-05' '2017-05-05' '2017-07-05' '2017-11-05' '2017-06-12'\n",
      " '2017-11-24' '2018-02-13' '2017-07-21' '2017-08-11' '2017-09-30'\n",
      " '2017-11-04' '2017-12-23' '2018-03-27' '2017-07-19' '2017-08-21'\n",
      " '2017-10-20' '2018-01-24' '2017-03-15' '2017-05-15' '2017-07-15'\n",
      " '2017-12-15' '2017-06-19' '2017-07-14' '2017-10-02' '2017-10-06'\n",
      " '2017-11-14' '2018-01-29' '2017-03-13' '2017-04-23' '2017-06-10'\n",
      " '2017-08-07' '2018-03-09' '2017-04-30' '2017-05-16' '2017-03-20'\n",
      " '2017-11-15' '2017-12-22' '2018-01-27' '2017-03-11' '2018-01-21'\n",
      " '2017-03-08' '2017-05-06' '2017-07-02' '2017-09-29' '2017-10-19'\n",
      " '2018-02-19' '2017-04-02' '2017-09-03' '2017-11-03' '2017-05-04'\n",
      " '2017-07-27' '2017-08-16' '2017-09-15' '2018-01-12' '2017-03-02'\n",
      " '2017-06-09' '2017-10-01' '2017-12-29' '2017-08-22' '2017-11-25'\n",
      " '2017-12-26' '2017-12-20' '2018-02-27' '2017-06-04' '2017-07-23'\n",
      " '2017-12-30' '2017-04-22' '2017-07-26' '2017-11-02' '2018-01-17'\n",
      " '2018-02-17' '2017-04-17' '2017-10-29' '2017-10-08' '2017-03-31'\n",
      " '2017-05-31' '2017-06-21' '2017-07-07' '2017-12-13' '2017-09-13'\n",
      " '2017-10-12' '2017-12-02' '2017-08-06' '2017-09-12' '2017-12-12'\n",
      " '2018-03-25' '2017-03-03' '2017-04-13' '2017-05-22' '2017-07-01'\n",
      " '2017-08-28' '2017-10-11' '2017-12-27' '2017-04-27' '2017-05-30'\n",
      " '2018-03-30' '2017-07-22' '2017-08-25' '2017-06-22' '2017-03-14'\n",
      " '2017-07-11' '2018-02-26' '2017-03-25' '2017-04-19' '2018-02-22'\n",
      " '2018-03-22' '2017-06-03' '2017-11-08' '2017-04-21' '2017-09-23'\n",
      " '2017-10-22' '2017-04-03' '2018-01-23' '2017-05-13' '2018-04-05'\n",
      " '2017-03-27' '2017-08-27' '2017-11-26' '2018-02-24' '2017-04-12'\n",
      " '2017-10-07' '2018-03-16' '2017-03-06' '2017-07-28' '2017-09-10'\n",
      " '2018-01-04' '2017-08-24' '2018-01-08' '2018-03-12' '2018-01-07'\n",
      " '2017-09-02' '2017-12-05' '2017-03-12' '2017-06-11' '2017-10-25'\n",
      " '2018-02-04' '2018-04-04' '2017-03-16' '2017-03-04' '2017-05-08'\n",
      " '2017-05-25' '2017-11-23' '2018-03-24' '2017-12-25' '2017-03-30'\n",
      " '2017-06-30' '2017-12-24' '2017-06-07' '2017-12-11' '2018-01-11'\n",
      " '2017-07-06' '2018-04-03' '2017-05-01' '2018-04-06' '2017-03-07'\n",
      " '2017-04-07' '2018-03-07' '2018-03-21' '2017-07-10' '2017-05-07'\n",
      " '2017-07-08']\n",
      "Columna Infraction_YFSG unique vals: ['CO' 'CL' 'CR' 'XZ' 'XM' 'XL']\n",
      "Columna Infraction_DQLY unique vals: ['O' 'R' 'U' nan '-1']\n",
      "Columna Infraction_CLH unique vals: ['very_high' 'moderate_low' 'moderate' 'high' nan 'moderate_high'\n",
      " 'very_low' 'low']\n",
      "Columna Base_67254 unique vals: ['moderate_low' 'low' 'moderate' 'high' 'very_high' 'extremely_high'\n",
      " 'moderate_high' nan]\n",
      "Columna Infraction_TEN unique vals: ['extremely_low' 'very_high' 'moderate_high' 'moderate_low' 'low' nan\n",
      " 'moderate' 'high']\n",
      "Index(['ID', 'Expenditure_AHF', 'Infraction_YFSG', 'Infraction_DQLY',\n",
      "       'Infraction_CLH', 'Base_67254', 'Infraction_TEN'],\n",
      "      dtype='object')\n"
     ]
    }
   ],
   "source": [
    "columnas_objeto = df.columns[df.dtypes == 'object']\n",
    "\n",
    "for col in columnas_objeto:\n",
    "    print(f'Columna {col} unique vals: {df[col].unique()}')\n",
    "print(columnas_objeto)"
   ]
  },
  {
   "cell_type": "code",
   "execution_count": 92,
   "metadata": {},
   "outputs": [
    {
     "name": "stdout",
     "output_type": "stream",
     "text": [
      "Infraction_CLH\n",
      "very_high        50.006200\n",
      "high             21.882088\n",
      "moderate          8.967036\n",
      "moderate_high     8.603834\n",
      "moderate_low      4.018216\n",
      "NaN               3.903416\n",
      "low               2.343809\n",
      "very_low          0.275401\n",
      "Name: proportion, dtype: float64\n",
      "Infraction_DQLY\n",
      "O      52.650011\n",
      "U      27.682711\n",
      "R      15.058060\n",
      "NaN     3.955216\n",
      "-1      0.654003\n",
      "Name: proportion, dtype: float64\n"
     ]
    }
   ],
   "source": [
    "\n",
    "percentage = df['Infraction_CLH'].value_counts(normalize=True, dropna=False) * 100\n",
    "print(percentage)\n",
    "percentage = df['Infraction_DQLY'].value_counts(normalize=True, dropna=False) * 100\n",
    "print(percentage)"
   ]
  },
  {
   "cell_type": "code",
   "execution_count": 93,
   "metadata": {},
   "outputs": [],
   "source": [
    "frequency_map = {\n",
    "    'very_low': 0,\n",
    "    'low': 1,\n",
    "    'moderate_low': 2,\n",
    "    'moderate': 3,\n",
    "    'moderate_high': 4,\n",
    "    'high': 5,\n",
    "    'very_high': 6\n",
    "}\n",
    "imputer = SimpleImputer(strategy='mean')\n",
    "for col in ['Infraction_CLH', 'Base_67254', 'Infraction_TEN']:\n",
    "    df[col] = df[col].map(frequency_map)\n",
    "    df[col] = imputer.fit_transform(df[[col]])\n",
    "\n",
    "df['Infraction_DQLY'] = df['Infraction_DQLY'].fillna(\n",
    "    df['Infraction_DQLY'].value_counts().head(1))\n",
    "columns_to_encode = ['Infraction_YFSG', 'Infraction_DQLY']\n",
    "df = pd.get_dummies(df, columns=columns_to_encode)\n",
    "\n"
   ]
  },
  {
   "cell_type": "code",
   "execution_count": 94,
   "metadata": {},
   "outputs": [
    {
     "name": "stdout",
     "output_type": "stream",
     "text": [
      "Series([], dtype: float64)\n"
     ]
    }
   ],
   "source": [
    "\n",
    "df['Expenditure_AHF'] = pd.to_datetime(df['Expenditure_AHF'])\n",
    "\n",
    "boolean_columns = df.select_dtypes('bool').columns\n",
    "\n",
    "for col in boolean_columns:\n",
    "    df[col] = df[col].astype(int)\n",
    "\n",
    "numerical_columns = df.select_dtypes(include=['number']).columns\n",
    "imputer = SimpleImputer(strategy='mean')\n",
    "df[numerical_columns] = imputer.fit_transform(df[numerical_columns])\n",
    "\n",
    "print(nan_percentaje(df))"
   ]
  },
  {
   "cell_type": "code",
   "execution_count": 95,
   "metadata": {},
   "outputs": [
    {
     "name": "stdout",
     "output_type": "stream",
     "text": [
      "                                                       ID Expenditure_AHF\n",
      "0       3333337004103300505242400473433643475477705348...      2017-03-05\n",
      "1       3333337004103300505242400473433643475477705348...      2017-04-20\n",
      "2       3333337004103300505242400473433643475477705348...      2017-05-11\n",
      "3       3333337004103300505242400473433643475477705348...      2017-06-29\n",
      "4       3333337004103300505242400473433643475477705348...      2017-08-03\n",
      "...                                                   ...             ...\n",
      "499993  8043553275334512144533048583521143144337787036...      2017-11-28\n",
      "499994  8043553275334512144533048583521143144337787036...      2017-12-23\n",
      "499995  8043553275334512144533048583521143144337787036...      2018-01-30\n",
      "499996  8043553275334512144533048583521143144337787036...      2018-02-17\n",
      "499997  8043553275334512144533048583521143144337787036...      2018-03-20\n",
      "\n",
      "[499998 rows x 2 columns]\n"
     ]
    }
   ],
   "source": [
    "# Seleccionar columnas no numéricas (excluyendo int y float)\n",
    "non_numerical_columns = df.select_dtypes(exclude=['number'])\n",
    "\n",
    "# Mostrar las columnas no numéricas\n",
    "print(non_numerical_columns)"
   ]
  },
  {
   "cell_type": "code",
   "execution_count": null,
   "metadata": {},
   "outputs": [],
   "source": [
    "def combinar_filas_por_cliente(df: pd.DataFrame) -> pd.DataFrame:\n",
    "    numerical_columns = df.select_dtypes(include=['number']).columns\n",
    "    client_dict['ID'] = \"\"\n",
    "    client_dict = {col: 0.0 for col in numerical_columns}\n",
    "    df_dict['ID'] = []\n",
    "    df_dict = {col: [] for col in numerical_columns}\n",
    "    client = df['ID'].iloc[0]\n",
    "    \n",
    "    for i, row in df.iterrows():\n",
    "        if client != row['ID']:\n",
    "            for key in client_dict:\n",
    "                df_dict[key].append(client_dict[key])\n",
    "            client_dict = {col: 0.0 for col in numerical_columns}\n",
    "            client = row['ID']\n",
    "        row_dict = row.to_dict()\n",
    "        client_dict['ID'] = row['ID']\n",
    "        for key in client_dict.keys():\n",
    "            client_dict[key] += row_dict[key]\n",
    "    for key in client_dict:\n",
    "        df_dict[key].append(client_dict[key])\n",
    "        \n",
    "    new_df = pd.DataFrame(df_dict)\n",
    "    return new_df;"
   ]
  },
  {
   "cell_type": "code",
   "execution_count": 97,
   "metadata": {},
   "outputs": [
    {
     "name": "stdout",
     "output_type": "stream",
     "text": [
      "Index(['Payment_6804', 'Infraction_CGP', 'Base_7744', 'Base_80863',\n",
      "       'Risk_1930', 'Expenditure_JIG', 'Infraction_SNZ', 'Base_02683',\n",
      "       'Infraction_ZWWJ', 'Infraction_QJJF',\n",
      "       ...\n",
      "       'Infraction_YFSG_CO', 'Infraction_YFSG_CR', 'Infraction_YFSG_XL',\n",
      "       'Infraction_YFSG_XM', 'Infraction_YFSG_XZ', 'Infraction_DQLY_-1',\n",
      "       'Infraction_DQLY_O', 'Infraction_DQLY_R', 'Infraction_DQLY_U', 'ID'],\n",
      "      dtype='object', length=174)\n"
     ]
    }
   ],
   "source": [
    "df = combinar_filas_por_cliente(df)\n",
    "print(df.columns)"
   ]
  },
  {
   "cell_type": "code",
   "execution_count": null,
   "metadata": {},
   "outputs": [
    {
     "name": "stdout",
     "output_type": "stream",
     "text": [
      "   Payment_6804  Infraction_CGP  Base_7744  Base_80863  Risk_1930  \\\n",
      "0      1.089858        0.479906  -0.483894    1.152907  -0.456545   \n",
      "1     -0.033747       -0.612882  -0.299299    1.053753  -0.460504   \n",
      "2      1.059455       -0.903374  -0.590226    0.664203  -0.470628   \n",
      "3      0.695135        0.375587  -0.476006    1.108069  -0.460101   \n",
      "\n",
      "   Expenditure_JIG  Infraction_SNZ  Base_02683  Infraction_ZWWJ  \\\n",
      "0        -0.610798       -0.320260   -0.556316         0.034897   \n",
      "1         0.261563       -0.317142   -0.552729        -0.558205   \n",
      "2         0.000794       -0.318011   -0.559035        -0.640048   \n",
      "3         0.648230       -0.322488   -0.551598        -0.887843   \n",
      "\n",
      "   Infraction_QJJF  ...  Infraction_YFSG_CO  Infraction_YFSG_CR  \\\n",
      "0        -0.551448  ...            0.720632           -0.440518   \n",
      "1        -0.546609  ...            0.720632           -0.440518   \n",
      "2        -0.555384  ...            0.720632           -0.440518   \n",
      "3         0.044882  ...            0.720632           -0.440518   \n",
      "\n",
      "   Infraction_YFSG_XL  Infraction_YFSG_XM  Infraction_YFSG_XZ  \\\n",
      "0           -0.061816           -0.060822           -0.093374   \n",
      "1           -0.061816           -0.060822           -0.093374   \n",
      "2           -0.061816           -0.060822           -0.093374   \n",
      "3           -0.061816           -0.060822           -0.093374   \n",
      "\n",
      "   Infraction_DQLY_-1  Infraction_DQLY_O  Infraction_DQLY_R  \\\n",
      "0           -0.141952           1.121321          -0.456190   \n",
      "1           -0.141952           1.121321          -0.456190   \n",
      "2           -0.141952           1.121321          -0.456190   \n",
      "3           -0.141952          -1.070056           2.810332   \n",
      "\n",
      "   Infraction_DQLY_U                                                 ID  \n",
      "0          -0.671961  3333337004103300505242400473433643475477705348...  \n",
      "1          -0.671961  3333412724050477534287115505554450368233003786...  \n",
      "2          -0.671961  3333755354307801420025735367852078550468735254...  \n",
      "3          -0.671961  3333545238615133608512002405572210535308150267...  \n",
      "\n",
      "[4 rows x 174 columns]\n"
     ]
    }
   ],
   "source": [
    "scaler = StandardScaler()\n",
    "numerical_columns = df.select_dtypes(include=['number']).columns\n",
    "df[numerical_columns] = scaler.fit_transform(df[numerical_columns])\n"
   ]
  },
  {
   "cell_type": "code",
   "execution_count": 99,
   "metadata": {},
   "outputs": [
    {
     "name": "stdout",
     "output_type": "stream",
     "text": [
      "0    3333337004103300505242400473433643475477705348...\n",
      "1    3333412724050477534287115505554450368233003786...\n",
      "2    3333755354307801420025735367852078550468735254...\n",
      "3    3333545238615133608512002405572210535308150267...\n",
      "Name: ID, dtype: object\n"
     ]
    }
   ],
   "source": [
    "\n",
    "print(df['ID'].head(4))"
   ]
  }
 ],
 "metadata": {
  "kernelspec": {
   "display_name": "Python 3",
   "language": "python",
   "name": "python3"
  },
  "language_info": {
   "codemirror_mode": {
    "name": "ipython",
    "version": 3
   },
   "file_extension": ".py",
   "mimetype": "text/x-python",
   "name": "python",
   "nbconvert_exporter": "python",
   "pygments_lexer": "ipython3",
   "version": "3.11.9"
  }
 },
 "nbformat": 4,
 "nbformat_minor": 2
}
