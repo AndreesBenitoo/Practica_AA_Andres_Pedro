{
 "cells": [
  {
   "cell_type": "code",
   "execution_count": 32,
   "metadata": {},
   "outputs": [],
   "source": [
    "import pandas as pd\n",
    "import numpy as np\n",
    "import matplotlib.pyplot as plt\n",
    "from mpl_toolkits.mplot3d import Axes3D\n",
    "\n",
    "# Librerías para preprocesado de datos\n",
    "from sklearn.impute import SimpleImputer\n",
    "from sklearn.preprocessing import StandardScaler\n",
    "\n",
    "# Modelos de clasificación y regresión para selección de características y entrenamiento\n",
    "from sklearn.ensemble import RandomForestClassifier\n",
    "\n",
    "# Librerías para tratamiento de datos desbalanceados\n",
    "from imblearn.over_sampling import SMOTE\n",
    "\n",
    "# Librerías para división de los datos\n",
    "from sklearn.model_selection import train_test_split\n",
    "\n",
    "from sklearn.metrics import f1_score"
   ]
  },
  {
   "cell_type": "code",
   "execution_count": 33,
   "metadata": {},
   "outputs": [],
   "source": [
    "df = pd.read_csv(\"./data/train_data.csv\")\n",
    "df_label = pd.read_csv(\"./data/train_labels.csv\")\n",
    "df_test = pd.read_csv(\"./data/test_data.csv\")"
   ]
  },
  {
   "cell_type": "code",
   "execution_count": 34,
   "metadata": {},
   "outputs": [],
   "source": [
    "# Obtenemos el porcentaje de nulos de cada columna\n",
    "porcentaje_nulos = df.isnull().mean() * 100\n",
    "\n",
    "# Nos quedamos con el subconjunto de columnas que tengan porcentaje de nulos superior\n",
    "# al 50%\n",
    "porcentaje_nulos = porcentaje_nulos[porcentaje_nulos > 50]\n",
    "\n",
    "# Eliminamos del Dataframe original las columnas que coincidan con las seleccionadas\n",
    "# en `porcentaje_nulos`\n",
    "df = df.drop(columns=porcentaje_nulos.index)\n",
    "df_test = df_test.drop(columns=porcentaje_nulos.index)"
   ]
  },
  {
   "cell_type": "code",
   "execution_count": 35,
   "metadata": {},
   "outputs": [],
   "source": [
    "# Seleccionamos las columnas de tipo numérico del DataFrame `df_completo`.\n",
    "numerical_columns = df.select_dtypes(include=['number']).columns\n",
    "\n",
    "# Configuramos el imputer para usar la estrategia de imputación de la media.\n",
    "imputer = SimpleImputer(strategy='mean')\n",
    "\n",
    "# Aplicamos la transformación de imputación a las columnas numéricas seleccionadas.\n",
    "# Aquí usamos `fit_transform` para calcular y aplicar la media de cada columna, rellenando los valores nulos con esta media.\n",
    "df[numerical_columns] = imputer.fit_transform(df[numerical_columns])\n",
    "df_test[numerical_columns] = imputer.fit_transform(df_test[numerical_columns])"
   ]
  },
  {
   "cell_type": "code",
   "execution_count": 36,
   "metadata": {},
   "outputs": [],
   "source": [
    "columnas_objeto = df.columns[df.dtypes == 'object']\n",
    "\n",
    "# Creamos la array para el mapeo\n",
    "frequency_map = {\n",
    "    'very_low': 0,\n",
    "    'low': 1,\n",
    "    'moderate_low': 2,\n",
    "    'moderate': 3,\n",
    "    'moderate_high': 4,\n",
    "    'high': 5,\n",
    "    'very_high': 6\n",
    "}\n",
    "# Crear el imputador con la estrategia de moda\n",
    "imputer = SimpleImputer(strategy='most_frequent')\n",
    "for col in ['Infraction_CLH', 'Base_67254', 'Infraction_TEN']:\n",
    "    df[col] = df[col].map(frequency_map)\n",
    "    df[col] = imputer.fit_transform(df[[col]])\n",
    "    df_test[col] = df_test[col].map(frequency_map)\n",
    "    df_test[col] = imputer.fit_transform(df_test[[col]])\n",
    "\n",
    "# Rellenamos valores nulos en 'Infraction_DQLY' con la moda de la columna\n",
    "# Esto asegura que no queden valores faltantes antes de aplicar One-Hot Encoding\n",
    "df['Infraction_DQLY'] = df['Infraction_DQLY'].fillna(df['Infraction_DQLY'].mode())\n",
    "df_test['Infraction_DQLY'] = df_test['Infraction_DQLY'].fillna(df_test['Infraction_DQLY'].mode())\n",
    "\n",
    "# Definimos las columnas que queremos transformar usando One-Hot Encoding\n",
    "columns_to_encode = ['Infraction_YFSG', 'Infraction_DQLY']\n",
    "\n",
    "# Aplicamos pd.get_dummies() a las columnas categóricas seleccionadas\n",
    "# Esto crea una columna binaria para cada categoría única en estas columnas\n",
    "df = pd.get_dummies(df, columns=columns_to_encode)\n",
    "df_test = pd.get_dummies(df_test, columns=columns_to_encode)"
   ]
  },
  {
   "cell_type": "code",
   "execution_count": 37,
   "metadata": {},
   "outputs": [],
   "source": [
    "# Seleccionamos las columnas de tipo booleano en el DataFrame\n",
    "boolean_columns = df.select_dtypes('bool').columns\n",
    "\n",
    "# Iteramos sobre cada columna booleana para manejar valores nulos y convertir el tipo de datos\n",
    "for col in boolean_columns:\n",
    "        # Completamos los valores nulos de la columna con el valor más frecuente\n",
    "        # Esto se logra utilizando `value_counts().head(1)` para obtener el valor más frecuente (la moda)\n",
    "        df[col] = df[col].fillna(df[col].value_counts().head(1))\n",
    "\n",
    "        # Convertimos la columna booleana a tipo entero (0 y 1 en lugar de True y False)\n",
    "        df[col] = df[col].astype(int)\n",
    "\n",
    "        df_test[col] = df_test[col].fillna(df_test[col].value_counts().head(1))\n",
    "        df_test[col] = df_test[col].astype(int)"
   ]
  },
  {
   "cell_type": "code",
   "execution_count": 38,
   "metadata": {},
   "outputs": [],
   "source": [
    "# Convertimos la columna 'Expenditure_AHF' a formato de fecha y hora (DateTime)\n",
    "df['Expenditure_AHF'] = pd.to_datetime(df['Expenditure_AHF'])\n",
    "\n",
    "# Convertimos los datos de fecha a segundos desde el inicio de la época (epoch) y los escalamos a una unidad más manejable\n",
    "df['Expenditure_AHF'] = df['Expenditure_AHF'].astype(int) / 10**9\n",
    "\n",
    "df_test['Expenditure_AHF'] = pd.to_datetime(df_test['Expenditure_AHF'])\n",
    "df_test['Expenditure_AHF'] = df_test['Expenditure_AHF'].astype(int) / 10**9"
   ]
  },
  {
   "cell_type": "code",
   "execution_count": 39,
   "metadata": {},
   "outputs": [],
   "source": [
    "df = df.groupby('ID', as_index=False).sum()\n",
    "df_test = df_test.groupby('ID', as_index=False).sum()"
   ]
  },
  {
   "cell_type": "code",
   "execution_count": 40,
   "metadata": {},
   "outputs": [],
   "source": [
    "# Creamos una instancia del StandardScaler para estandarizar los datos\n",
    "scaler = StandardScaler()\n",
    "\n",
    "# Seleccionamos las columnas numéricas del DataFrame\n",
    "numerical_columns = df.select_dtypes(include=['number']).columns\n",
    "\n",
    "# Aplicamos el escalador a todas las columnas numéricas\n",
    "# El método fit_transform calcula la media y desviación estándar de cada columna y transforma los datos\n",
    "df[numerical_columns] = scaler.fit_transform(df[numerical_columns])\n",
    "df_test[numerical_columns] = scaler.fit_transform(df_test[numerical_columns])"
   ]
  },
  {
   "cell_type": "code",
   "execution_count": 41,
   "metadata": {},
   "outputs": [],
   "source": [
    "#igualamos La variable X al dataframe base\n",
    "df = df.drop('ID', axis=1)\n",
    "df_test = df_test.drop('ID', axis=1)\n",
    "\n",
    "# Almacenamos en la variable las etiquestas sin el `ID`\n",
    "y = df_label.drop('ID', axis=1)\n",
    "df_label = df_label.drop('ID', axis=1)"
   ]
  },
  {
   "cell_type": "code",
   "execution_count": 42,
   "metadata": {},
   "outputs": [],
   "source": [
    "X = df[['Expenditure_AHF', 'Expenditure_JIG', 'Base_02683', 'Base_6872',\n",
    "       'Infraction_GGO', 'Risk_9995', 'Infraction_AYWV', 'Expenditure_YTR',\n",
    "       'Infraction_PAS', 'Base_14808', 'Infraction_TBP', 'Base_0580',\n",
    "       'Expenditure_RGD', 'Base_0229', 'Risk_1475', 'Base_8511',\n",
    "       'Infraction_JYZB', 'Base_22178', 'Risk_7095', 'Base_36516',\n",
    "       'Infraction_HFU', 'Expenditure_HRQ', 'Risk_2102', 'Risk_4804',\n",
    "       'Infraction_XWX', 'Expenditure_XDD', 'Risk_8742', 'Infraction_VHU',\n",
    "       'Risk_4247', 'Infraction_GSS', 'Risk_0454', 'Expenditure_HKXV',\n",
    "       'Infraction_MHM', 'Risk_4160', 'Risk_9367', 'Base_7910',\n",
    "       'Expenditure_GMC', 'Risk_9423', 'Risk_6178', 'Risk_6197',\n",
    "       'Infraction_QVSL', 'Infraction_QXUM', 'Risk_8532', 'Risk_9247',\n",
    "       'Expenditure_ONEG', 'Expenditure_MTRQ', 'Expenditure_HPM',\n",
    "       'Infraction_HFSI', 'Base_5441', 'Risk_8902', 'Infraction_PTY',\n",
    "       'Expenditure_BEH', 'Infraction_LMHK', 'Infraction_NMCB',\n",
    "       'Infraction_TPAF', 'Infraction_ZRH', 'Infraction_WIS', 'Infraction_IIZ',\n",
    "       'Infraction_WVAW', 'Infraction_KEJT', 'Infraction_WMAQ',\n",
    "       'Infraction_SIA', 'Infraction_CZXL', 'Infraction_HUK',\n",
    "       'Infraction_LIES', 'Infraction_LSX', 'Infraction_DNOU',\n",
    "       'Infraction_YFSG_CL', 'Infraction_YFSG_XL', 'Infraction_YFSG_XM']]\n",
    "\n",
    "X_test = df_test[['Expenditure_AHF', 'Expenditure_JIG', 'Base_02683', 'Base_6872',\n",
    "       'Infraction_GGO', 'Risk_9995', 'Infraction_AYWV', 'Expenditure_YTR',\n",
    "       'Infraction_PAS', 'Base_14808', 'Infraction_TBP', 'Base_0580',\n",
    "       'Expenditure_RGD', 'Base_0229', 'Risk_1475', 'Base_8511',\n",
    "       'Infraction_JYZB', 'Base_22178', 'Risk_7095', 'Base_36516',\n",
    "       'Infraction_HFU', 'Expenditure_HRQ', 'Risk_2102', 'Risk_4804',\n",
    "       'Infraction_XWX', 'Expenditure_XDD', 'Risk_8742', 'Infraction_VHU',\n",
    "       'Risk_4247', 'Infraction_GSS', 'Risk_0454', 'Expenditure_HKXV',\n",
    "       'Infraction_MHM', 'Risk_4160', 'Risk_9367', 'Base_7910',\n",
    "       'Expenditure_GMC', 'Risk_9423', 'Risk_6178', 'Risk_6197',\n",
    "       'Infraction_QVSL', 'Infraction_QXUM', 'Risk_8532', 'Risk_9247',\n",
    "       'Expenditure_ONEG', 'Expenditure_MTRQ', 'Expenditure_HPM',\n",
    "       'Infraction_HFSI', 'Base_5441', 'Risk_8902', 'Infraction_PTY',\n",
    "       'Expenditure_BEH', 'Infraction_LMHK', 'Infraction_NMCB',\n",
    "       'Infraction_TPAF', 'Infraction_ZRH', 'Infraction_WIS', 'Infraction_IIZ',\n",
    "       'Infraction_WVAW', 'Infraction_KEJT', 'Infraction_WMAQ',\n",
    "       'Infraction_SIA', 'Infraction_CZXL', 'Infraction_HUK',\n",
    "       'Infraction_LIES', 'Infraction_LSX', 'Infraction_DNOU',\n",
    "       'Infraction_YFSG_CL', 'Infraction_YFSG_XL', 'Infraction_YFSG_XM']]\n",
    "\n",
    "y = df_label['label']"
   ]
  },
  {
   "cell_type": "code",
   "execution_count": 43,
   "metadata": {},
   "outputs": [],
   "source": [
    "# realizar sobremuestreo en la clase minoritaria. Usamos random_state=42 para asegurar\n",
    "# que los resultados sean reproducibles en cada ejecución.\n",
    "smote = SMOTE(random_state=42)\n",
    "\n",
    "# Aplicamos SMOTE a las características X y las etiquetas y.\n",
    "# Esto genera nuevas muestras sintéticas de la clase minoritaria, devolviendo un nuevo\n",
    "# conjunto de datos balanceado en X_resampled e y_resampled.\n",
    "X_resampled, y_resampled = smote.fit_resample(X, y)"
   ]
  },
  {
   "cell_type": "code",
   "execution_count": 44,
   "metadata": {},
   "outputs": [
    {
     "name": "stdout",
     "output_type": "stream",
     "text": [
      "F1-score en entrenamiento: 1.0\n"
     ]
    }
   ],
   "source": [
    "rf = RandomForestClassifier(n_estimators=175, random_state=42)\n",
    "rf.fit(X, y)\n",
    "\n",
    "y_train_pred = rf.predict(X)\n",
    "f1_train = f1_score(y, y_train_pred)  # Para problemas de clasificación\n",
    "print(f'F1-score en entrenamiento: {f1_train}')\n",
    "\n",
    "# Evaluar el rendimiento en el conjunto de prueba\n",
    "y_test_pred = rf.predict(X_test)\n",
    "y_test_pred_df = pd.DataFrame(y_test_pred, columns=['label'])\n",
    "y_test_pred_df.to_csv(\"./test_labels.csv\", index=False)\n"
   ]
  },
  {
   "cell_type": "code",
   "execution_count": null,
   "metadata": {},
   "outputs": [
    {
     "name": "stdout",
     "output_type": "stream",
     "text": [
      "   label\n",
      "0      0\n",
      "1      0\n",
      "2      0\n",
      "3      0\n",
      "4      0\n"
     ]
    }
   ],
   "source": [
    "print(y_test_pred_df[\"label\"].unique())"
   ]
  }
 ],
 "metadata": {
  "kernelspec": {
   "display_name": "Python 3",
   "language": "python",
   "name": "python3"
  },
  "language_info": {
   "codemirror_mode": {
    "name": "ipython",
    "version": 3
   },
   "file_extension": ".py",
   "mimetype": "text/x-python",
   "name": "python",
   "nbconvert_exporter": "python",
   "pygments_lexer": "ipython3",
   "version": "3.11.9"
  }
 },
 "nbformat": 4,
 "nbformat_minor": 2
}
