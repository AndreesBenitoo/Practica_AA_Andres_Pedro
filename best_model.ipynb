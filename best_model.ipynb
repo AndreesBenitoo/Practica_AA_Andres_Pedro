{
 "cells": [
  {
   "cell_type": "code",
   "execution_count": 1,
   "metadata": {},
   "outputs": [],
   "source": [
    "import pandas as pd\n",
    "import numpy as np\n",
    "import matplotlib.pyplot as plt\n",
    "from mpl_toolkits.mplot3d import Axes3D\n",
    "\n",
    "# Librerías para preprocesado de datos\n",
    "from sklearn.impute import SimpleImputer\n",
    "from sklearn.preprocessing import StandardScaler, MinMaxScaler\n",
    "\n",
    "# Librerías para selección de características\n",
    "from sklearn.feature_selection import (\n",
    "    SelectKBest, chi2, mutual_info_classif, f_classif, VarianceThreshold,\n",
    "    RFE, RFECV, SequentialFeatureSelector\n",
    ")\n",
    "\n",
    "# Modelos de clasificación y regresión para selección de características y entrenamiento\n",
    "from sklearn.linear_model import LogisticRegression, LassoCV, RidgeCV, ElasticNetCV\n",
    "from sklearn.ensemble import RandomForestClassifier\n",
    "\n",
    "# Librerías para reducción de dimensionalidad\n",
    "from sklearn.decomposition import PCA\n",
    "\n",
    "# Librerías para tratamiento de datos desbalanceados\n",
    "from imblearn.over_sampling import SMOTE\n",
    "\n",
    "# Librerías para división de los datos\n",
    "from sklearn.model_selection import train_test_split\n",
    "\n",
    "from sklearn.metrics import f1_score"
   ]
  },
  {
   "cell_type": "code",
   "execution_count": 2,
   "metadata": {},
   "outputs": [],
   "source": [
    "df = pd.read_csv(\"./data/train_data.csv\")\n",
    "df_label = pd.read_csv(\"./data/train_labels.csv\")"
   ]
  },
  {
   "cell_type": "code",
   "execution_count": 3,
   "metadata": {},
   "outputs": [],
   "source": [
    "# Obtenemos el porcentaje de nulos de cada columna\n",
    "porcentaje_nulos = df.isnull().mean() * 100\n",
    "\n",
    "# Nos quedamos con el subconjunto de columnas que tengan porcentaje de nulos superior\n",
    "# al 50%\n",
    "porcentaje_nulos = porcentaje_nulos[porcentaje_nulos > 50]\n",
    "\n",
    "# Eliminamos del Dataframe original las columnas que coincidan con las seleccionadas\n",
    "# en `porcentaje_nulos`\n",
    "df = df.drop(columns=porcentaje_nulos.index)"
   ]
  },
  {
   "cell_type": "code",
   "execution_count": 4,
   "metadata": {},
   "outputs": [],
   "source": [
    "# Seleccionamos las columnas de tipo numérico del DataFrame `df_completo`.\n",
    "numerical_columns = df.select_dtypes(include=['number']).columns\n",
    "\n",
    "# Configuramos el imputer para usar la estrategia de imputación de la media.\n",
    "imputer = SimpleImputer(strategy='mean')\n",
    "\n",
    "# Aplicamos la transformación de imputación a las columnas numéricas seleccionadas.\n",
    "# Aquí usamos `fit_transform` para calcular y aplicar la media de cada columna, rellenando los valores nulos con esta media.\n",
    "df[numerical_columns] = imputer.fit_transform(df[numerical_columns])"
   ]
  },
  {
   "cell_type": "code",
   "execution_count": 5,
   "metadata": {},
   "outputs": [],
   "source": [
    "columnas_objeto = df.columns[df.dtypes == 'object']\n",
    "\n",
    "# Creamos la array para el mapeo\n",
    "frequency_map = {\n",
    "    'very_low': 0,\n",
    "    'low': 1,\n",
    "    'moderate_low': 2,\n",
    "    'moderate': 3,\n",
    "    'moderate_high': 4,\n",
    "    'high': 5,\n",
    "    'very_high': 6\n",
    "}\n",
    "# Crear el imputador con la estrategia de moda\n",
    "imputer = SimpleImputer(strategy='most_frequent')\n",
    "for col in ['Infraction_CLH', 'Base_67254', 'Infraction_TEN']:\n",
    "    df[col] = df[col].map(frequency_map)\n",
    "    df[col] = imputer.fit_transform(df[[col]])\n",
    "\n",
    "# Rellenamos valores nulos en 'Infraction_DQLY' con la moda de la columna\n",
    "# Esto asegura que no queden valores faltantes antes de aplicar One-Hot Encoding\n",
    "df['Infraction_DQLY'] = df['Infraction_DQLY'].fillna(df['Infraction_DQLY'].mode())\n",
    "\n",
    "# Definimos las columnas que queremos transformar usando One-Hot Encoding\n",
    "columns_to_encode = ['Infraction_YFSG', 'Infraction_DQLY']\n",
    "\n",
    "# Aplicamos pd.get_dummies() a las columnas categóricas seleccionadas\n",
    "# Esto crea una columna binaria para cada categoría única en estas columnas\n",
    "df = pd.get_dummies(df, columns=columns_to_encode)"
   ]
  },
  {
   "cell_type": "code",
   "execution_count": 6,
   "metadata": {},
   "outputs": [],
   "source": [
    "# Seleccionamos las columnas de tipo booleano en el DataFrame\n",
    "boolean_columns = df.select_dtypes('bool').columns\n",
    "\n",
    "# Iteramos sobre cada columna booleana para manejar valores nulos y convertir el tipo de datos\n",
    "for col in boolean_columns:\n",
    "        # Completamos los valores nulos de la columna con el valor más frecuente\n",
    "        # Esto se logra utilizando `value_counts().head(1)` para obtener el valor más frecuente (la moda)\n",
    "        df[col] = df[col].fillna(df[col].value_counts().head(1))\n",
    "\n",
    "        # Convertimos la columna booleana a tipo entero (0 y 1 en lugar de True y False)\n",
    "        df[col] = df[col].astype(int)"
   ]
  },
  {
   "cell_type": "code",
   "execution_count": 7,
   "metadata": {},
   "outputs": [],
   "source": [
    "# Convertimos la columna 'Expenditure_AHF' a formato de fecha y hora (DateTime)\n",
    "df['Expenditure_AHF'] = pd.to_datetime(df['Expenditure_AHF'])\n",
    "\n",
    "# Convertimos los datos de fecha a segundos desde el inicio de la época (epoch) y los escalamos a una unidad más manejable\n",
    "df['Expenditure_AHF'] = df['Expenditure_AHF'].astype(int) / 10**9"
   ]
  },
  {
   "cell_type": "code",
   "execution_count": 8,
   "metadata": {},
   "outputs": [],
   "source": [
    "df = df.groupby('ID', as_index=False).sum()"
   ]
  },
  {
   "cell_type": "code",
   "execution_count": 9,
   "metadata": {},
   "outputs": [],
   "source": [
    "# Creamos una instancia del StandardScaler para estandarizar los datos\n",
    "scaler = StandardScaler()\n",
    "\n",
    "# Seleccionamos las columnas numéricas del DataFrame\n",
    "numerical_columns = df.select_dtypes(include=['number']).columns\n",
    "\n",
    "# Aplicamos el escalador a todas las columnas numéricas\n",
    "# El método fit_transform calcula la media y desviación estándar de cada columna y transforma los datos\n",
    "df[numerical_columns] = scaler.fit_transform(df[numerical_columns])\n"
   ]
  },
  {
   "cell_type": "code",
   "execution_count": 10,
   "metadata": {},
   "outputs": [],
   "source": [
    "#igualamos La variable X al dataframe base\n",
    "X = df.drop('ID', axis=1)\n",
    "\n",
    "# Almacenamos en la variable las etiquestas sin el `ID`\n",
    "y = df_label.drop('ID', axis=1)"
   ]
  },
  {
   "cell_type": "code",
   "execution_count": null,
   "metadata": {},
   "outputs": [],
   "source": [
    "X = df[['Expenditure_AHF', 'Payment_6804', 'Infraction_CGP', 'Base_7744',\n",
    "       'Base_80863', 'Risk_1930', 'Expenditure_JIG', 'Infraction_SNZ',\n",
    "       'Base_02683', 'Infraction_ZWWJ', 'Infraction_QJJF', 'Base_76065',\n",
    "       'Infraction_EJZ', 'Base_6872', 'Risk_0322', 'Infraction_FMXQ',\n",
    "       'Infraction_GGO', 'Infraction_TLPJ', 'Base_1165', 'Base_39598',\n",
    "       'Base_6187', 'Infraction_ZTNC', 'Base_85131', 'Risk_9995',\n",
    "       'Infraction_AYWV', 'Payment_22507', 'Base_9516', 'Base_36384',\n",
    "       'Expenditure_FIP', 'Risk_0003', 'Expenditure_HMO', 'Infraction_BSU',\n",
    "       'Risk_8065', 'Infraction_ZYW', 'Infraction_HSSU', 'Infraction_EHZP',\n",
    "       'Infraction_TBP', 'Infraction_PBC', 'Infraction_AQO', 'Base_69608',\n",
    "       'Base_91828', 'Expenditure_IDZ', 'Risk_1475', 'Base_8511',\n",
    "       'Infraction_JYZB', 'Base_22178', 'Infraction_ZTYG', 'Infraction_EYU',\n",
    "       'Expenditure_HPM', 'Infraction_HFSI']]\n",
    "y = df_label['label']"
   ]
  },
  {
   "cell_type": "code",
   "execution_count": 31,
   "metadata": {},
   "outputs": [],
   "source": [
    "# realizar sobremuestreo en la clase minoritaria. Usamos random_state=42 para asegurar\n",
    "# que los resultados sean reproducibles en cada ejecución.\n",
    "smote = SMOTE(random_state=42)\n",
    "\n",
    "# Aplicamos SMOTE a las características X y las etiquetas y.\n",
    "# Esto genera nuevas muestras sintéticas de la clase minoritaria, devolviendo un nuevo\n",
    "# conjunto de datos balanceado en X_resampled e y_resampled.\n",
    "X_resampled, y_resampled = smote.fit_resample(X, y)"
   ]
  },
  {
   "cell_type": "code",
   "execution_count": 32,
   "metadata": {},
   "outputs": [],
   "source": [
    "X_train, X_test, y_train, y_test = train_test_split(X_resampled, y_resampled, test_size=0.3, random_state=42, stratify=y_resampled)"
   ]
  },
  {
   "cell_type": "code",
   "execution_count": 33,
   "metadata": {},
   "outputs": [
    {
     "name": "stdout",
     "output_type": "stream",
     "text": [
      "Training:  0.9982375921935496\n",
      "Test:  0.7874559174851162\n"
     ]
    }
   ],
   "source": [
    "rf = RandomForestClassifier(n_estimators=175, random_state=42, max_depth=22)\n",
    "\n",
    "rf.fit(X_train, y_train)\n",
    "y_train_pred = rf.predict(X_train)\n",
    "f1_score_training = f1_score(y_train, y_train_pred)\n",
    "print(\"Training: \", f1_score_training)\n",
    "\n",
    "y_test_pred = rf.predict(X_test)\n",
    "f1_score_test = f1_score(y_test, y_test_pred)\n",
    "print(\"Test: \", f1_score_test)\n"
   ]
  }
 ],
 "metadata": {
  "kernelspec": {
   "display_name": "Python 3",
   "language": "python",
   "name": "python3"
  },
  "language_info": {
   "codemirror_mode": {
    "name": "ipython",
    "version": 3
   },
   "file_extension": ".py",
   "mimetype": "text/x-python",
   "name": "python",
   "nbconvert_exporter": "python",
   "pygments_lexer": "ipython3",
   "version": "3.11.9"
  }
 },
 "nbformat": 4,
 "nbformat_minor": 2
}
