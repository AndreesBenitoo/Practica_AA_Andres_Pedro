{
 "cells": [
  {
   "cell_type": "code",
   "execution_count": null,
   "metadata": {},
   "outputs": [
    {
     "name": "stdout",
     "output_type": "stream",
     "text": [
      "--> Leyendo el csv\n",
      "--> Tratando datos NaN\n",
      "--> Tratando columnas nominales\n",
      "--> Asignando tipo a filas\n",
      "--> Rellenando valores NaN con la media\n",
      "--> Unificando las lineas por cliente\n",
      "--> Escalando los valores\n"
     ]
    }
   ],
   "source": [
    "import utils\n",
    "import importlib\n",
    "import pandas as pd\n",
    "\n",
    "# Reload the module after changes\n",
    "importlib.reload(utils)\n",
    "\n",
    "print(\"--> Leyendo el csv\")\n",
    "df = pd.read_csv(\"./datasets/test_data.csv\")\n",
    "\n",
    "df = utils.clean_data(df)\n",
    "\n",
    "df.to_csv(\"output.csv\", index=False)"
   ]
  }
 ],
 "metadata": {
  "kernelspec": {
   "display_name": "Python 3",
   "language": "python",
   "name": "python3"
  },
  "language_info": {
   "codemirror_mode": {
    "name": "ipython",
    "version": 3
   },
   "file_extension": ".py",
   "mimetype": "text/x-python",
   "name": "python",
   "nbconvert_exporter": "python",
   "pygments_lexer": "ipython3",
   "version": "3.11.9"
  }
 },
 "nbformat": 4,
 "nbformat_minor": 2
}
